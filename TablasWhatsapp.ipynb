{
  "nbformat": 4,
  "nbformat_minor": 0,
  "metadata": {
    "colab": {
      "provenance": [],
      "authorship_tag": "ABX9TyPZzvY45bT+NpMvZuIMHTRC",
      "include_colab_link": true
    },
    "kernelspec": {
      "name": "python3",
      "display_name": "Python 3"
    },
    "language_info": {
      "name": "python"
    }
  },
  "cells": [
    {
      "cell_type": "markdown",
      "metadata": {
        "id": "view-in-github",
        "colab_type": "text"
      },
      "source": [
        "<a href=\"https://colab.research.google.com/github/ItSala-M/biblioteca-vhdl/blob/master/TablasWhatsapp.ipynb\" target=\"_parent\"><img src=\"https://colab.research.google.com/assets/colab-badge.svg\" alt=\"Open In Colab\"/></a>"
      ]
    },
    {
      "cell_type": "code",
      "execution_count": 3,
      "metadata": {
        "colab": {
          "base_uri": "https://localhost:8080/",
          "height": 366
        },
        "id": "CIcPcsVhgX_H",
        "outputId": "d65dd17c-f004-4f15-bd77-e5765d05b516"
      },
      "outputs": [
        {
          "output_type": "stream",
          "name": "stdout",
          "text": [
            "Collecting emoji\n",
            "  Downloading emoji-2.9.0-py2.py3-none-any.whl (397 kB)\n",
            "\u001b[2K     \u001b[90m━━━━━━━━━━━━━━━━━━━━━━━━━━━━━━━━━━━━━━━━\u001b[0m \u001b[32m397.5/397.5 kB\u001b[0m \u001b[31m3.0 MB/s\u001b[0m eta \u001b[36m0:00:00\u001b[0m\n",
            "\u001b[?25hInstalling collected packages: emoji\n",
            "Successfully installed emoji-2.9.0\n",
            "Mounted at /content/drive\n"
          ]
        },
        {
          "output_type": "error",
          "ename": "FileNotFoundError",
          "evalue": "ignored",
          "traceback": [
            "\u001b[0;31m---------------------------------------------------------------------------\u001b[0m",
            "\u001b[0;31mFileNotFoundError\u001b[0m                         Traceback (most recent call last)",
            "\u001b[0;32m<ipython-input-3-426347d44486>\u001b[0m in \u001b[0;36m<cell line: 65>\u001b[0;34m()\u001b[0m\n\u001b[1;32m     63\u001b[0m \u001b[0;31m# Lista para almacenar los datos (Fecha, Hora, Miembro, Mensaje) de cada línea del txt\u001b[0m\u001b[0;34m\u001b[0m\u001b[0;34m\u001b[0m\u001b[0m\n\u001b[1;32m     64\u001b[0m \u001b[0mDatosLista\u001b[0m \u001b[0;34m=\u001b[0m \u001b[0;34m[\u001b[0m\u001b[0;34m]\u001b[0m\u001b[0;34m\u001b[0m\u001b[0;34m\u001b[0m\u001b[0m\n\u001b[0;32m---> 65\u001b[0;31m \u001b[0;32mwith\u001b[0m \u001b[0mopen\u001b[0m\u001b[0;34m(\u001b[0m\u001b[0mRutaChat\u001b[0m\u001b[0;34m,\u001b[0m \u001b[0mencoding\u001b[0m\u001b[0;34m=\u001b[0m\u001b[0;34m\"utf-8\"\u001b[0m\u001b[0;34m)\u001b[0m \u001b[0;32mas\u001b[0m \u001b[0mfp\u001b[0m\u001b[0;34m:\u001b[0m\u001b[0;34m\u001b[0m\u001b[0;34m\u001b[0m\u001b[0m\n\u001b[0m\u001b[1;32m     66\u001b[0m     \u001b[0mfp\u001b[0m\u001b[0;34m.\u001b[0m\u001b[0mreadline\u001b[0m\u001b[0;34m(\u001b[0m\u001b[0;34m)\u001b[0m \u001b[0;31m# Eliminar primera fila relacionada al cifrado de extremo a extremo\u001b[0m\u001b[0;34m\u001b[0m\u001b[0;34m\u001b[0m\u001b[0m\n\u001b[1;32m     67\u001b[0m     \u001b[0mVerificarMensaje\u001b[0m \u001b[0;34m=\u001b[0m \u001b[0;34m[\u001b[0m\u001b[0;34m]\u001b[0m \u001b[0;31m# Lista para verificar que no existan mensajes vacíos\u001b[0m\u001b[0;34m\u001b[0m\u001b[0;34m\u001b[0m\u001b[0m\n",
            "\u001b[0;31mFileNotFoundError\u001b[0m: [Errno 2] No such file or directory: 'Chat de WhatsApp con Seguimiento ACL LOGISTICS.txt'"
          ]
        }
      ],
      "source": [
        "!pip install emoji\n",
        "import pandas as pd\n",
        "import numpy as np\n",
        "import datetime as dt\n",
        "import matplotlib.pyplot as plt\n",
        "import plotly.express as px\n",
        "\n",
        "import re\n",
        "import regex\n",
        "import emoji\n",
        "from collections import Counter\n",
        "from wordcloud import WordCloud, STOPWORDS\n",
        "\n",
        "from google.colab import drive\n",
        "drive.mount('/content/drive')\n",
        "\n",
        "# Patron regex para identificar el comienzo de cada línea del txt con la fecha y la hora\n",
        "def IniciaConFechaYHora(s):\n",
        "    # Ejemplo: '21/2/2021 11:27 a. m. - ... '\n",
        "    patron = '^([1-9]|1[0-9]|2[0-9]|3[0-1])(\\/)([1-9]|1[0-2])(\\/)(2[0-9][0-9][0-9]) ([0-9]+):([0-9][0-9]) (a.\\xa0m.|p.\\xa0m.) -'\n",
        "    resultado = re.match(patron, s)  # Verificar si cada línea del txt hace match con el patrón de fecha y hora\n",
        "    if resultado:\n",
        "        return True\n",
        "    return False\n",
        "\n",
        "# Patron para encontrar a los miembros del grupo dentro del txt\n",
        "def EncontrarMiembro(s):\n",
        "    patrones = [\n",
        "        '([\\w]+):',                                    # Nombre\n",
        "        '([\\w]+[\\s]+[\\(]+[\\w]+[\\)]+):',      # Nombre (Apodo)\n",
        "        '([\\w]+[\\s]+[\\w]+):',                    # Nombre + Apellido\n",
        "        '([\\w]+[\\s]+[\\w]+[\\s]+[\\w]+):',    # Nombre 1 + Nombre 2 + Apellido\n",
        "        '([+]\\d{2} \\d{2} \\d{4} \\d{4}):',     # Número de teléfono (Peru)\n",
        "        '([\\w]+)[\\u263a-\\U0001f999]+:', # Nombre + Emoji\n",
        "    ]\n",
        "    patron = '^' + '|'.join(patrones)\n",
        "    resultado = re.match(patron, s)  # Verificar si cada línea del txt hace match con el patrón de miembro\n",
        "    if resultado:\n",
        "        return True\n",
        "    return False\n",
        "\n",
        "    # Separar las partes de cada línea del txt: Fecha, Hora, Miembro y Mensaje\n",
        "def ObtenerPartes(linea):\n",
        "    # Ejemplo: '21/2/2021 11:27 a. m. - Sandro: Todos debemos aprender a analizar datos'\n",
        "    splitLinea = linea.split(' - ')\n",
        "    FechaHora = splitLinea[0]                     # '21/2/2021 11:27 a. m.'\n",
        "    splitFechaHora = FechaHora.split(' ')\n",
        "    Fecha = splitFechaHora[0]                    # '21/2/2021'\n",
        "    Hora = ' '.join(splitFechaHora[1:])          # '11:27 a. m.'\n",
        "    Mensaje = ' '.join(splitLinea[1:])             # 'Sandro: Todos debemos aprender a analizar datos'\n",
        "    if EncontrarMiembro(Mensaje):\n",
        "        splitMensaje = Mensaje.split(': ')\n",
        "        Miembro = splitMensaje[0]               # 'Sandro'\n",
        "        Mensaje = ' '.join(splitMensaje[1:])    # 'Todos debemos aprender a analizar datos'\n",
        "    else:\n",
        "        Miembro = None\n",
        "    return Fecha, Hora, Miembro, Mensaje\n",
        "\n",
        "    # Leer el archivo txt descargado del chat de WhatsApp\n",
        "RutaChat = 'Chat de WhatsApp con Seguimiento ACL LOGISTICS.txt'\n",
        "#'Chat de WhatsApp con Data Analytics IISE 2021.txt'\n",
        "\n",
        "# Lista para almacenar los datos (Fecha, Hora, Miembro, Mensaje) de cada línea del txt\n",
        "DatosLista = []\n",
        "with open(RutaChat, encoding=\"utf-8\") as fp:\n",
        "    fp.readline() # Eliminar primera fila relacionada al cifrado de extremo a extremo\n",
        "    VerificarMensaje = [] # Lista para verificar que no existan mensajes vacíos\n",
        "    Fecha, Hora, Miembro = None, None, None\n",
        "    while True:\n",
        "        linea = fp.readline()\n",
        "        if not linea:\n",
        "            break\n",
        "        linea = linea.strip()\n",
        "        if IniciaConFechaYHora(linea): # Si cada línea del txt coincide con el patrón fecha y hora\n",
        "            if len(VerificarMensaje) > 0:\n",
        "                # Añadir un elemento lista que contendrá los datos a la lista 'DatosLista'\n",
        "                DatosLista.append([Fecha, Hora, Miembro, ' '.join(VerificarMensaje)])\n",
        "            VerificarMensaje.clear()\n",
        "            Fecha, Hora, Miembro, Mensaje = ObtenerPartes(linea) # Obtener datos de cada línea del txt\n",
        "            VerificarMensaje.append(Mensaje)\n",
        "        else:\n",
        "            VerificarMensaje.append(linea)\n",
        "# Convertir la lista con los datos a dataframe\n",
        "df = pd.DataFrame(DatosLista, columns=['Fecha', 'Hora', 'Miembro', 'Mensaje'])\n",
        "\n",
        "# Cambiar la columna Fecha a formato datetime\n",
        "df['Fecha'] = pd.to_datetime(df['Fecha'], format=\"%d/%m/%Y\")\n",
        "\n",
        "# Eliminar los posibles campos vacíos del dataframe\n",
        "# y lo que no son mensajes como cambiar el asunto del grupo o agregar a alguien\n",
        "df = df.dropna()\n",
        "\n",
        "# Rester el índice\n",
        "df.reset_index(drop=True, inplace=True)\n",
        "df"
      ]
    }
  ]
}